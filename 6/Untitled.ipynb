{
 "cells": [
  {
   "cell_type": "code",
   "execution_count": 58,
   "metadata": {},
   "outputs": [],
   "source": [
    "import numpy as np\n",
    "import matplotlib.pyplot as plt\n",
    "%matplotlib inline"
   ]
  },
  {
   "cell_type": "code",
   "execution_count": 130,
   "metadata": {},
   "outputs": [],
   "source": [
    "points = np.loadtxt('input.txt', delimiter=',').astype(np.int)\n",
    "#points = np.loadtxt('test.txt', delimiter=',').astype(np.int)"
   ]
  },
  {
   "cell_type": "code",
   "execution_count": 131,
   "metadata": {},
   "outputs": [],
   "source": [
    "def generate_single_map(p_a, cols=10, rows=10):\n",
    "    m = np.zeros((cols, rows), np.int)\n",
    "    yg, xg = np.meshgrid(np.arange(0, rows), np.arange(0, cols))\n",
    "    return np.abs(p_a[0] - xg).astype(np.int) + np.abs(p_a[1] - yg).astype(np.int)\n",
    "\n",
    "def isin(element, test_elements, assume_unique=False, invert=False):\n",
    "    \"...\"\n",
    "    element = np.asarray(element)\n",
    "    return np.in1d(element, test_elements, assume_unique=assume_unique,\n",
    "                invert=invert).reshape(element.shape)\n",
    "\n",
    "def p1(P, cols=10, rows=10):\n",
    "    N = P.shape[0]\n",
    "\n",
    "    m = sys.maxint * np.ones((cols, rows, N), np.int)\n",
    "    for i in xrange(N):\n",
    "        m[:,:,i] = generate_single_map(P[i,:], cols, rows)\n",
    "    m_ = np.argmin(m, axis=2) \n",
    "\n",
    "    # find corner points\n",
    "    #import pdb; pdb.set_trace()\n",
    "    ymin, xmin = np.min(P, axis=0).astype(np.int)\n",
    "    ymax, xmax = np.max(P, axis=0).astype(np.int)\n",
    "\n",
    "    x = np.arange(xmin, xmax)\n",
    "    y = np.arange(ymin, ymax)\n",
    "\n",
    "    corners = np.concatenate((np.unique(m_[y,xmin]),\n",
    "        np.unique(m_[y, xmax]),\n",
    "        np.unique(m_[ymin, x]),\n",
    "        np.unique(m_[ymax, x])))\n",
    "    \n",
    "    mask = np.logical_not(isin(m_, corners))\n",
    "    \n",
    "    _, counts = np.unique(m_[mask], return_counts=True)\n",
    "    return np.max(counts)"
   ]
  },
  {
   "cell_type": "code",
   "execution_count": 132,
   "metadata": {},
   "outputs": [
    {
     "data": {
      "text/plain": [
       "4114"
      ]
     },
     "execution_count": 132,
     "metadata": {},
     "output_type": "execute_result"
    }
   ],
   "source": [
    "p1(points, 500, 500)"
   ]
  },
  {
   "cell_type": "code",
   "execution_count": 133,
   "metadata": {},
   "outputs": [],
   "source": [
    "P = points\n",
    "N = P.shape[0]\n",
    "cols = 500\n",
    "rows = 500\n",
    "\n",
    "m = sys.maxint * np.ones((cols, rows, N), np.int)\n",
    "for i in xrange(N):\n",
    "    m[:,:,i] = generate_single_map(P[i,:], cols, rows)\n",
    "m_ = np.argmin(m, axis=2)\n",
    "\n",
    "# remove duplicate points\n",
    "mask = np.zeros(m_.shape, np.bool)\n",
    "for j in xrange(m_.shape[1]):\n",
    "    for i in xrange(m_.shape[0]):\n",
    "        if len(np.where(m[i,j, :] == np.min(m[i, j, :]))[0]) > 1:\n",
    "            mask[i,j] = True\n",
    "m_[mask] = -1\n",
    "\n",
    "# find corner points\n",
    "ymin, xmin = np.min(P, axis=0).astype(np.int)\n",
    "ymax, xmax = np.max(P, axis=0).astype(np.int)\n",
    "\n",
    "x = np.arange(xmin, xmax)\n",
    "y = np.arange(ymin, ymax)\n",
    "\n",
    "corners = np.concatenate((np.unique(m_[y,xmin]),\n",
    "    np.unique(m_[y, xmax]),\n",
    "    np.unique(m_[ymin, x]),\n",
    "    np.unique(m_[ymax, x])))\n",
    "\n",
    "mask = np.logical_not(isin(m_, corners))\n",
    "\n",
    "_, counts = np.unique(m_[mask], return_counts=True)"
   ]
  },
  {
   "cell_type": "code",
   "execution_count": 134,
   "metadata": {},
   "outputs": [
    {
     "data": {
      "text/plain": [
       "<matplotlib.image.AxesImage at 0x10a10b210>"
      ]
     },
     "execution_count": 134,
     "metadata": {},
     "output_type": "execute_result"
    },
    {
     "data": {
      "image/png": "[encoded data removed]",
      "text/plain": [
       "<matplotlib.figure.Figure at 0x1052b6550>"
      ]
     },
     "metadata": {},
     "output_type": "display_data"
    }
   ],
   "source": [
    "plt.imshow(mask)"
   ]
  },
  {
   "cell_type": "code",
   "execution_count": 135,
   "metadata": {},
   "outputs": [
    {
     "data": {
      "text/plain": [
       "<matplotlib.collections.PathCollection at 0x10a5ad4d0>"
      ]
     },
     "execution_count": 135,
     "metadata": {},
     "output_type": "execute_result"
    },
    {
     "data": {
      "image/png": "[encoded data removed]",
      "text/plain": [
       "<matplotlib.figure.Figure at 0x1077b4290>"
      ]
     },
     "metadata": {},
     "output_type": "display_data"
    }
   ],
   "source": [
    "plt.figure(figsize=(10,10))\n",
    "plt.imshow(m_.T, cmap='Spectral')\n",
    "plt.scatter(P[np.unique(m_[mask]), 0], P[np.unique(m_[mask]), 1], c='w', marker='.')\n",
    "plt.scatter(P[7,0], P[7,1], c='r', marker='.')"
   ]
  },
  {
   "cell_type": "code",
   "execution_count": 138,
   "metadata": {},
   "outputs": [
    {
     "data": {
      "text/plain": [
       "4060"
      ]
     },
     "execution_count": 138,
     "metadata": {},
     "output_type": "execute_result"
    }
   ],
   "source": [
    "max(counts)"
   ]
  },
  {
   "cell_type": "code",
   "execution_count": 113,
   "metadata": {},
   "outputs": [],
   "source": []
  },
  {
   "cell_type": "code",
   "execution_count": 110,
   "metadata": {},
   "outputs": [
    {
     "data": {
      "text/plain": [
       "array([ 2,  7, 11,  7, 10, 17])"
      ]
     },
     "execution_count": 110,
     "metadata": {},
     "output_type": "execute_result"
    }
   ],
   "source": [
    "m[0,0,:]"
   ]
  },
  {
   "cell_type": "code",
   "execution_count": null,
   "metadata": {},
   "outputs": [],
   "source": []
  }
 ],
 "metadata": {
  "kernelspec": {
   "display_name": "Python 2",
   "language": "python",
   "name": "python2"
  },
  "language_info": {
   "codemirror_mode": {
    "name": "ipython",
    "version": 2
   },
   "file_extension": ".py",
   "mimetype": "text/x-python",
   "name": "python",
   "nbconvert_exporter": "python",
   "pygments_lexer": "ipython2",
   "version": "2.7.15"
  }
 },
 "nbformat": 4,
 "nbformat_minor": 2
}
